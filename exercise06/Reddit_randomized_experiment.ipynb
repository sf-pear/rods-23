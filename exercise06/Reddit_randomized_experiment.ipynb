{
 "cells": [
  {
   "cell_type": "markdown",
   "metadata": {},
   "source": [
    "<h1>Reddit randomized controlled experiment</h1>"
   ]
  },
  {
   "cell_type": "code",
   "execution_count": null,
   "metadata": {},
   "outputs": [],
   "source": [
    "import praw"
   ]
  },
  {
   "cell_type": "markdown",
   "metadata": {},
   "source": [
    "<h1>Create a Reddit instance with PRAW</h1>"
   ]
  },
  {
   "cell_type": "code",
   "execution_count": null,
   "metadata": {},
   "outputs": [],
   "source": [
    "import praw\n",
    "\n",
    "username = \"RestComplex2111\"\n",
    "secret = \"my2wieMOdMbf85vEKPX198hjuqpxqQ\"\n",
    "client_id = \"r0Nk2GkbbY8z84bWDqrigQ\"\n",
    "password = \"jziXoN4qo#@@HL\"\n",
    "user_agent = \"Mozilla/5.0 (Windows NT 10.0; Win64; x64) AppleWebKit/537.36 (KHTML, like Gecko) Chrome/109.0.0.0 Safari/537.36 OPR/95.0.0.0\""
   ]
  },
  {
   "cell_type": "code",
   "execution_count": null,
   "metadata": {},
   "outputs": [],
   "source": [
    "def user_login(client_id, client_secret,username,password,user_agent):\n",
    "    # reddit api login\n",
    "    reddit = praw.Reddit(client_id=client_id,\n",
    "                         client_secret=client_secret,\n",
    "                         username=username,\n",
    "                         password=password,\n",
    "                         user_agent=user_agent)\n",
    "    return reddit\n",
    "\n",
    "reddit = user_login(client_id, secret, username, password, user_agent)"
   ]
  },
  {
   "cell_type": "markdown",
   "metadata": {},
   "source": [
    "Test if everything went fine by retriving a reddit post."
   ]
  },
  {
   "cell_type": "code",
   "execution_count": null,
   "metadata": {},
   "outputs": [],
   "source": [
    "#Reddit post: https://www.reddit.com/r/Futurology/comments/11rcj0a/gpt4_is_out_and_the_results_are_astounding_better/\n",
    "#id = 11rcj0a\n",
    "submission = reddit.submission(\"11rcj0a\")\n",
    "print('Post title: {}\\n'.format(submission.title))\n",
    "print('Post content: {}\\n'.format(submission.selftext))\n",
    "print('Post number os comments: {}\\n'.format(submission.num_comments))\n",
    "print('Post url: {}\\n'.format(submission.url))\n",
    "\n",
    "#search the API and print more information associated with the post."
   ]
  },
  {
   "cell_type": "markdown",
   "metadata": {},
   "source": [
    "<h1>Upvote a post</h1>"
   ]
  },
  {
   "cell_type": "code",
   "execution_count": null,
   "metadata": {},
   "outputs": [],
   "source": [
    "#read the documentation: https://praw.readthedocs.io/en/latest/\n",
    "\n",
    "submission.upvote()"
   ]
  },
  {
   "cell_type": "markdown",
   "metadata": {},
   "source": [
    "<h1>Get newly created posts</h1>"
   ]
  },
  {
   "cell_type": "code",
   "execution_count": null,
   "metadata": {},
   "outputs": [],
   "source": [
    "subs = ['computervision', 'plantclinic', 'houseplants', 'whatsthisplant','linuxmint']\n",
    "\n",
    "subreddit = reddit.subreddit('+'.join(subs))\n",
    "\n",
    "submission_ids = []\n",
    "for submission in subreddit.new(limit=10): # limit to 10 submissions for this example\n",
    "    submission_ids.append(submission.id)\n",
    "\n",
    "submission_ids"
   ]
  },
  {
   "cell_type": "code",
   "execution_count": null,
   "metadata": {},
   "outputs": [],
   "source": [
    "submission_ids = []\n",
    "for submission in subreddit.new(limit=10): # limit to 10 submissions for this example\n",
    "    submission_ids.append(submission.id)"
   ]
  },
  {
   "cell_type": "code",
   "execution_count": null,
   "metadata": {},
   "outputs": [],
   "source": [
    "submission_ids"
   ]
  },
  {
   "cell_type": "markdown",
   "metadata": {},
   "source": [
    "<h1>Create a Reddit posts stream</h1>"
   ]
  },
  {
   "cell_type": "code",
   "execution_count": null,
   "metadata": {},
   "outputs": [],
   "source": [
    "import time"
   ]
  },
  {
   "cell_type": "code",
   "execution_count": null,
   "metadata": {},
   "outputs": [],
   "source": [
    "# for submission in subreddit.new(limit=10):\n",
    "#     print(submission)"
   ]
  },
  {
   "attachments": {},
   "cell_type": "markdown",
   "metadata": {},
   "source": [
    "https://praw.readthedocs.io/en/latest/code_overview/models/submission.html"
   ]
  },
  {
   "cell_type": "code",
   "execution_count": null,
   "metadata": {},
   "outputs": [],
   "source": [
    "import praw\n",
    "import time\n",
    "\n",
    "username = \"RestComplex2111\"\n",
    "secret = \"my2wieMOdMbf85vEKPX198hjuqpxqQ\"\n",
    "client_id = \"r0Nk2GkbbY8z84bWDqrigQ\"\n",
    "password = \"jziXoN4qo#@@HL\"\n",
    "user_agent = \"Mozilla/5.0 (Windows NT 10.0; Win64; x64) AppleWebKit/537.36 (KHTML, like Gecko) Chrome/109.0.0.0 Safari/537.36 OPR/95.0.0.0\"\n",
    "subs = ['computervision', 'plantclinic', 'houseplants', 'whatsthisplant','linuxmint']\n",
    "\n",
    "def user_login(client_id, client_secret,username,password,user_agent):\n",
    "    # reddit api login\n",
    "    reddit = praw.Reddit(client_id=client_id,\n",
    "                         client_secret=client_secret,\n",
    "                         username=username,\n",
    "                         password=password,\n",
    "                         user_agent=user_agent)\n",
    "    return reddit\n",
    "\n",
    "reddit = user_login(client_id, secret, username, password, user_agent)\n",
    "\n",
    "subreddit = reddit.subreddit('+'.join(subs))\n",
    "\n",
    "for submission in subreddit.stream.submissions(skip_existing=True):\n",
    "    submision_id = submission.id\n",
    "    date_posted = time.ctime(submission.created_utc)\t\n",
    "    vote_count = submission.score\n",
    "    title = submission.title\n",
    "    sub = submission.subreddit\n",
    "\n",
    "    if vote_count <= 1:\n",
    "        submission.upvote()\n",
    "        line = f\"{submision_id}, {sub}, {date_posted}, {vote_count}, {title}\\n\"\n",
    "        with open('upvoted_posts.txt', 'a') as file:\n",
    "            file.write(line)"
   ]
  }
 ],
 "metadata": {
  "kernelspec": {
   "display_name": "Python 3 (ipykernel)",
   "language": "python",
   "name": "python3"
  },
  "language_info": {
   "codemirror_mode": {
    "name": "ipython",
    "version": 3
   },
   "file_extension": ".py",
   "mimetype": "text/x-python",
   "name": "python",
   "nbconvert_exporter": "python",
   "pygments_lexer": "ipython3",
   "version": "3.11.0"
  }
 },
 "nbformat": 4,
 "nbformat_minor": 4
}
